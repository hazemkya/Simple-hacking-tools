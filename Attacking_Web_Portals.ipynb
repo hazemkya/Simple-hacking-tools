{
 "cells": [
  {
   "cell_type": "markdown",
   "metadata": {},
   "source": [
    "# Attacking Web Portals"
   ]
  },
  {
   "cell_type": "markdown",
   "metadata": {},
   "source": [
    "A popular **CMS** is hosted on **port 80** of local machine. Perform the give tasks to complete the challenge. \n",
    "\n",
    "**Requests** and **BeautifulSoup** libraries are installed on the machine. A password dictionary \"password_dictionary.txt\" is present in the working directory. "
   ]
  },
  {
   "cell_type": "code",
   "execution_count": 92,
   "metadata": {},
   "outputs": [],
   "source": [
    "import requests as rq\n",
    "from bs4 import BeautifulSoup\n",
    "import re"
   ]
  },
  {
   "cell_type": "markdown",
   "metadata": {},
   "source": [
    "## Learn"
   ]
  },
  {
   "cell_type": "markdown",
   "metadata": {},
   "source": [
    "**Task 1:** Check if web portal is up by using GET request."
   ]
  },
  {
   "cell_type": "code",
   "execution_count": 14,
   "metadata": {},
   "outputs": [
    {
     "name": "stdout",
     "output_type": "stream",
     "text": [
      "Portal is up\n"
     ]
    }
   ],
   "source": [
    "result = rq.get('http://localhost:80')\n",
    "if(result.ok):\n",
    "    print(\"Portal is up\")\n",
    "else:\n",
    "    print(\"Portal is down\")"
   ]
  },
  {
   "cell_type": "markdown",
   "metadata": {},
   "source": [
    "**Task 2:** Which server software is being used?"
   ]
  },
  {
   "cell_type": "code",
   "execution_count": 21,
   "metadata": {},
   "outputs": [
    {
     "data": {
      "text/plain": [
       "'nginx/1.14.0'"
      ]
     },
     "execution_count": 21,
     "metadata": {},
     "output_type": "execute_result"
    }
   ],
   "source": [
    "result.headers['Server']"
   ]
  },
  {
   "cell_type": "markdown",
   "metadata": {},
   "source": [
    "**Task 3:** Print response headers of the GET response."
   ]
  },
  {
   "cell_type": "code",
   "execution_count": 22,
   "metadata": {},
   "outputs": [
    {
     "data": {
      "text/plain": [
       "{'Server': 'nginx/1.14.0', 'Date': 'Tue, 15 Feb 2022 16:57:26 GMT', 'Content-Type': 'text/html; charset=UTF-8', 'Transfer-Encoding': 'chunked', 'Connection': 'keep-alive', 'Link': '</wp-json/>; rel=\"https://api.w.org/\"', 'Content-Encoding': 'gzip'}"
      ]
     },
     "execution_count": 22,
     "metadata": {},
     "output_type": "execute_result"
    }
   ],
   "source": [
    "result.headers"
   ]
  },
  {
   "cell_type": "markdown",
   "metadata": {},
   "source": [
    "**Task 4:** Get text content of localhost homepage. Also, can you tell which CMS is running on localhost?"
   ]
  },
  {
   "cell_type": "code",
   "execution_count": 31,
   "metadata": {
    "scrolled": true
   },
   "outputs": [
    {
     "data": {
      "text/plain": [
       "b'<!DOCTYPE html>\\n<html lang=\"en-US\" class=\"no-js\">\\n<head>\\n\\t<meta charset=\"UTF-8\">\\n\\t<meta name=\"viewport\" content=\"width=device-width, initial-scale=1\">\\n\\t<link rel=\"profile\" href=\"http://gmpg.org/xfn/11\">\\n\\t\\t<script>(function(html){html.className = html.className.replace(/\\\\bno-js\\\\b/,\\'js\\')})(document.documentElement);</script>\\n<title>Target WordPress &#8211; Just another WordPress site</title>\\n<link rel=\"alternate\" type=\"application/rss+xml\" title=\"Target WordPress &raquo; Feed\" href=\"/feed/\" />\\n<link rel=\"alternate\" type=\"application/rss+xml\" title=\"Target WordPress &raquo; Comments Feed\" href=\"/comments/feed/\" />\\n\\t\\t<script type=\"text/javascript\">\\n\\t\\t\\twindow._wpemojiSettings = {\"baseUrl\":\"https:\\\\/\\\\/s.w.org\\\\/images\\\\/core\\\\/emoji\\\\/72x72\\\\/\",\"ext\":\".png\",\"source\":{\"concatemoji\":\"\\\\/wp-includes\\\\/js\\\\/wp-emoji-release.min.js?ver=4.5.3\"}};\\n\\t\\t\\t!function(a,b,c){function d(a){var c,d,e,f=b.createElement(\"canvas\"),g=f.getContext&&f.getContext(\"2d\"),h=String.fromCharCode;if(!g||!g.fillText)return!1;switch(g.textBaseline=\"top\",g.font=\"600 32px Arial\",a){case\"flag\":return g.fillText(h(55356,56806,55356,56826),0,0),f.toDataURL().length>3e3;case\"diversity\":return g.fillText(h(55356,57221),0,0),c=g.getImageData(16,16,1,1).data,d=c[0]+\",\"+c[1]+\",\"+c[2]+\",\"+c[3],g.fillText(h(55356,57221,55356,57343),0,0),c=g.getImageData(16,16,1,1).data,e=c[0]+\",\"+c[1]+\",\"+c[2]+\",\"+c[3],d!==e;case\"simple\":return g.fillText(h(55357,56835),0,0),0!==g.getImageData(16,16,1,1).data[0];case\"unicode8\":return g.fillText(h(55356,57135),0,0),0!==g.getImageData(16,16,1,1).data[0]}return!1}function e(a){var c=b.createElement(\"script\");c.src=a,c.type=\"text/javascript\",b.getElementsByTagName(\"head\")[0].appendChild(c)}var f,g,h,i;for(i=Array(\"simple\",\"flag\",\"unicode8\",\"diversity\"),c.supports={everything:!0,everythingExceptFlag:!0},h=0;h<i.length;h++)c.supports[i[h]]=d(i[h]),c.supports.everything=c.supports.everything&&c.supports[i[h]],\"flag\"!==i[h]&&(c.supports.everythingExceptFlag=c.supports.everythingExceptFlag&&c.supports[i[h]]);c.supports.everythingExceptFlag=c.supports.everythingExceptFlag&&!c.supports.flag,c.DOMReady=!1,c.readyCallback=function(){c.DOMReady=!0},c.supports.everything||(g=function(){c.readyCallback()},b.addEventListener?(b.addEventListener(\"DOMContentLoaded\",g,!1),a.addEventListener(\"load\",g,!1)):(a.attachEvent(\"onload\",g),b.attachEvent(\"onreadystatechange\",function(){\"complete\"===b.readyState&&c.readyCallback()})),f=c.source||{},f.concatemoji?e(f.concatemoji):f.wpemoji&&f.twemoji&&(e(f.twemoji),e(f.wpemoji)))}(window,document,window._wpemojiSettings);\\n\\t\\t</script>\\n\\t\\t<style type=\"text/css\">\\nimg.wp-smiley,\\nimg.emoji {\\n\\tdisplay: inline !important;\\n\\tborder: none !important;\\n\\tbox-shadow: none !important;\\n\\theight: 1em !important;\\n\\twidth: 1em !important;\\n\\tmargin: 0 .07em !important;\\n\\tvertical-align: -0.1em !important;\\n\\tbackground: none !important;\\n\\tpadding: 0 !important;\\n}\\n</style>\\n<link rel=\\'stylesheet\\' id=\\'twentysixteen-fonts-css\\'  href=\\'https://fonts.googleapis.com/css?family=Merriweather%3A400%2C700%2C900%2C400italic%2C700italic%2C900italic%7CMontserrat%3A400%2C700%7CInconsolata%3A400&#038;subset=latin%2Clatin-ext\\' type=\\'text/css\\' media=\\'all\\' />\\n<link rel=\\'stylesheet\\' id=\\'genericons-css\\'  href=\\'/wp-content/themes/twentysixteen/genericons/genericons.css?ver=3.4.1\\' type=\\'text/css\\' media=\\'all\\' />\\n<link rel=\\'stylesheet\\' id=\\'twentysixteen-style-css\\'  href=\\'/wp-content/themes/twentysixteen/style.css?ver=4.5.3\\' type=\\'text/css\\' media=\\'all\\' />\\n<!--[if lt IE 10]>\\n<link rel=\\'stylesheet\\' id=\\'twentysixteen-ie-css\\'  href=\\'/wp-content/themes/twentysixteen/css/ie.css?ver=20160412\\' type=\\'text/css\\' media=\\'all\\' />\\n<![endif]-->\\n<!--[if lt IE 9]>\\n<link rel=\\'stylesheet\\' id=\\'twentysixteen-ie8-css\\'  href=\\'/wp-content/themes/twentysixteen/css/ie8.css?ver=20160412\\' type=\\'text/css\\' media=\\'all\\' />\\n<![endif]-->\\n<!--[if lt IE 8]>\\n<link rel=\\'stylesheet\\' id=\\'twentysixteen-ie7-css\\'  href=\\'/wp-content/themes/twentysixteen/css/ie7.css?ver=20160412\\' type=\\'text/css\\' media=\\'all\\' />\\n<![endif]-->\\n<!--[if lt IE 9]>\\n<script type=\\'text/javascript\\' src=\\'/wp-content/themes/twentysixteen/js/html5.js?ver=3.7.3\\'></script>\\n<![endif]-->\\n<script type=\\'text/javascript\\' src=\\'http://localhost/wp-includes/js/jquery/jquery.js?ver=1.12.4\\'></script>\\n<script type=\\'text/javascript\\' src=\\'http://localhost/wp-includes/js/jquery/jquery-migrate.min.js?ver=1.4.1\\'></script>\\n<link rel=\\'https://api.w.org/\\' href=\\'/wp-json/\\' />\\n<link rel=\"EditURI\" type=\"application/rsd+xml\" title=\"RSD\" href=\"/xmlrpc.php?rsd\" />\\n<link rel=\"wlwmanifest\" type=\"application/wlwmanifest+xml\" href=\"/wp-includes/wlwmanifest.xml\" /> \\n<meta name=\"generator\" content=\"WordPress 4.5.3\" />\\n\\t\\t<style type=\"text/css\">.recentcomments a{display:inline !important;padding:0 !important;margin:0 !important;}</style>\\n\\t\\t</head>\\n\\n<body class=\"home blog hfeed\">\\n<div id=\"page\" class=\"site\">\\n\\t<div class=\"site-inner\">\\n\\t\\t<a class=\"skip-link screen-reader-text\" href=\"#content\">Skip to content</a>\\n\\n\\t\\t<header id=\"masthead\" class=\"site-header\" role=\"banner\">\\n\\t\\t\\t<div class=\"site-header-main\">\\n\\t\\t\\t\\t<div class=\"site-branding\">\\n\\t\\t\\t\\t\\t\\n\\t\\t\\t\\t\\t\\t\\t\\t\\t\\t\\t<h1 class=\"site-title\"><a href=\"/\" rel=\"home\">Target WordPress</a></h1>\\n\\t\\t\\t\\t\\t\\t\\t\\t\\t\\t\\t<p class=\"site-description\">Just another WordPress site</p>\\n\\t\\t\\t\\t\\t\\t\\t\\t\\t</div><!-- .site-branding -->\\n\\n\\t\\t\\t\\t\\t\\t\\t</div><!-- .site-header-main -->\\n\\n\\t\\t\\t\\t\\t</header><!-- .site-header -->\\n\\n\\t\\t<div id=\"content\" class=\"site-content\">\\n\\n\\t<div id=\"primary\" class=\"content-area\">\\n\\t\\t<main id=\"main\" class=\"site-main\" role=\"main\">\\n\\n\\t\\t\\n\\t\\t\\t\\n\\t\\t\\t\\n<article id=\"post-1\" class=\"post-1 post type-post status-publish format-standard hentry category-uncategorized\">\\n\\t<header class=\"entry-header\">\\n\\t\\t\\n\\t\\t<h2 class=\"entry-title\"><a href=\"/2018/07/12/hello-world/\" rel=\"bookmark\">Hello world!</a></h2>\\t</header><!-- .entry-header -->\\n\\n\\t\\n\\t\\n\\t<div class=\"entry-content\">\\n\\t\\t<p>Welcome to WordPress. This is your first post. Edit or delete it, then start writing!</p>\\n\\t</div><!-- .entry-content -->\\n\\n\\t<footer class=\"entry-footer\">\\n\\t\\t<span class=\"byline\"><span class=\"author vcard\"><img alt=\\'\\' src=\\'http://1.gravatar.com/avatar/1e421ab419b5bee07fe7fba2adc4e22f?s=49&#038;d=mm&#038;r=g\\' srcset=\\'http://1.gravatar.com/avatar/1e421ab419b5bee07fe7fba2adc4e22f?s=98&amp;d=mm&amp;r=g 2x\\' class=\\'avatar avatar-49 photo\\' height=\\'49\\' width=\\'49\\' /><span class=\"screen-reader-text\">Author </span> <a class=\"url fn n\" href=\"/author/admin/\">admin</a></span></span><span class=\"posted-on\"><span class=\"screen-reader-text\">Posted on </span><a href=\"/2018/07/12/hello-world/\" rel=\"bookmark\"><time class=\"entry-date published updated\" datetime=\"2018-07-12T19:19:22+00:00\">July 12, 2018</time></a></span><span class=\"comments-link\"><a href=\"/2018/07/12/hello-world/#comments\">1 Comment<span class=\"screen-reader-text\"> on Hello world!</span></a></span>\\t\\t\\t</footer><!-- .entry-footer -->\\n</article><!-- #post-## -->\\n\\n\\t\\t</main><!-- .site-main -->\\n\\t</div><!-- .content-area -->\\n\\n\\n\\t<aside id=\"secondary\" class=\"sidebar widget-area\" role=\"complementary\">\\n\\t\\t<section id=\"search-2\" class=\"widget widget_search\">\\n<form role=\"search\" method=\"get\" class=\"search-form\" action=\"/\">\\n\\t<label>\\n\\t\\t<span class=\"screen-reader-text\">Search for:</span>\\n\\t\\t<input type=\"search\" class=\"search-field\" placeholder=\"Search &hellip;\" value=\"\" name=\"s\" />\\n\\t</label>\\n\\t<button type=\"submit\" class=\"search-submit\"><span class=\"screen-reader-text\">Search</span></button>\\n</form>\\n</section>\\t\\t<section id=\"recent-posts-2\" class=\"widget widget_recent_entries\">\\t\\t<h2 class=\"widget-title\">Recent Posts</h2>\\t\\t<ul>\\n\\t\\t\\t\\t\\t<li>\\n\\t\\t\\t\\t<a href=\"/2018/07/12/hello-world/\">Hello world!</a>\\n\\t\\t\\t\\t\\t\\t</li>\\n\\t\\t\\t\\t</ul>\\n\\t\\t</section>\\t\\t<section id=\"recent-comments-2\" class=\"widget widget_recent_comments\"><h2 class=\"widget-title\">Recent Comments</h2><ul id=\"recentcomments\"><li class=\"recentcomments\"><span class=\"comment-author-link\"><a href=\\'https://wordpress.org/\\' rel=\\'external nofollow\\' class=\\'url\\'>Mr WordPress</a></span> on <a href=\"/2018/07/12/hello-world/#comment-1\">Hello world!</a></li></ul></section><section id=\"archives-2\" class=\"widget widget_archive\"><h2 class=\"widget-title\">Archives</h2>\\t\\t<ul>\\n\\t\\t\\t<li><a href=\\'/2018/07/\\'>July 2018</a></li>\\n\\t\\t</ul>\\n\\t\\t</section><section id=\"categories-2\" class=\"widget widget_categories\"><h2 class=\"widget-title\">Categories</h2>\\t\\t<ul>\\n\\t<li class=\"cat-item cat-item-1\"><a href=\"/category/uncategorized/\" >Uncategorized</a>\\n</li>\\n\\t\\t</ul>\\n</section><section id=\"meta-2\" class=\"widget widget_meta\"><h2 class=\"widget-title\">Meta</h2>\\t\\t\\t<ul>\\n\\t\\t\\t\\t\\t\\t<li><a href=\"/wp-login.php\">Log in</a></li>\\n\\t\\t\\t<li><a href=\"/feed/\">Entries <abbr title=\"Really Simple Syndication\">RSS</abbr></a></li>\\n\\t\\t\\t<li><a href=\"/comments/feed/\">Comments <abbr title=\"Really Simple Syndication\">RSS</abbr></a></li>\\n\\t\\t\\t<li><a href=\"https://wordpress.org/\" title=\"Powered by WordPress, state-of-the-art semantic personal publishing platform.\">WordPress.org</a></li>\\t\\t\\t</ul>\\n\\t\\t\\t</section>\\t</aside><!-- .sidebar .widget-area -->\\n\\n\\t\\t</div><!-- .site-content -->\\n\\n\\t\\t<footer id=\"colophon\" class=\"site-footer\" role=\"contentinfo\">\\n\\t\\t\\t\\n\\t\\t\\t\\n\\t\\t\\t<div class=\"site-info\">\\n\\t\\t\\t\\t\\t\\t\\t\\t<span class=\"site-title\"><a href=\"/\" rel=\"home\">Target WordPress</a></span>\\n\\t\\t\\t\\t<a href=\"https://wordpress.org/\">Proudly powered by WordPress</a>\\n\\t\\t\\t</div><!-- .site-info -->\\n\\t\\t</footer><!-- .site-footer -->\\n\\t</div><!-- .site-inner -->\\n</div><!-- .site -->\\n\\n<script type=\\'text/javascript\\' src=\\'/wp-content/themes/twentysixteen/js/skip-link-focus-fix.js?ver=20160412\\'></script>\\n<script type=\\'text/javascript\\'>\\n/* <![CDATA[ */\\nvar screenReaderText = {\"expand\":\"expand child menu\",\"collapse\":\"collapse child menu\"};\\n/* ]]> */\\n</script>\\n<script type=\\'text/javascript\\' src=\\'/wp-content/themes/twentysixteen/js/functions.js?ver=20160412\\'></script>\\n<script type=\\'text/javascript\\' src=\\'http://localhost/wp-includes/js/wp-embed.min.js?ver=4.5.3\\'></script>\\n</body>\\n</html>\\n'"
      ]
     },
     "execution_count": 31,
     "metadata": {},
     "output_type": "execute_result"
    }
   ],
   "source": [
    "result.content"
   ]
  },
  {
   "cell_type": "markdown",
   "metadata": {},
   "source": [
    "**Task 5:** Print the response in a pretty form using Beautiful Soup."
   ]
  },
  {
   "cell_type": "code",
   "execution_count": 30,
   "metadata": {
    "scrolled": false
   },
   "outputs": [
    {
     "data": {
      "text/plain": [
       "<bound method Tag.prettify of <!DOCTYPE html>\n",
       "\n",
       "<html class=\"no-js\" lang=\"en-US\">\n",
       "<head>\n",
       "<meta charset=\"utf-8\"/>\n",
       "<meta content=\"width=device-width, initial-scale=1\" name=\"viewport\"/>\n",
       "<link href=\"http://gmpg.org/xfn/11\" rel=\"profile\"/>\n",
       "<script>(function(html){html.className = html.className.replace(/\\bno-js\\b/,'js')})(document.documentElement);</script>\n",
       "<title>Target WordPress – Just another WordPress site</title>\n",
       "<link href=\"/feed/\" rel=\"alternate\" title=\"Target WordPress » Feed\" type=\"application/rss+xml\">\n",
       "<link href=\"/comments/feed/\" rel=\"alternate\" title=\"Target WordPress » Comments Feed\" type=\"application/rss+xml\"/>\n",
       "<script type=\"text/javascript\">\n",
       "\t\t\twindow._wpemojiSettings = {\"baseUrl\":\"https:\\/\\/s.w.org\\/images\\/core\\/emoji\\/72x72\\/\",\"ext\":\".png\",\"source\":{\"concatemoji\":\"\\/wp-includes\\/js\\/wp-emoji-release.min.js?ver=4.5.3\"}};\n",
       "\t\t\t!function(a,b,c){function d(a){var c,d,e,f=b.createElement(\"canvas\"),g=f.getContext&&f.getContext(\"2d\"),h=String.fromCharCode;if(!g||!g.fillText)return!1;switch(g.textBaseline=\"top\",g.font=\"600 32px Arial\",a){case\"flag\":return g.fillText(h(55356,56806,55356,56826),0,0),f.toDataURL().length>3e3;case\"diversity\":return g.fillText(h(55356,57221),0,0),c=g.getImageData(16,16,1,1).data,d=c[0]+\",\"+c[1]+\",\"+c[2]+\",\"+c[3],g.fillText(h(55356,57221,55356,57343),0,0),c=g.getImageData(16,16,1,1).data,e=c[0]+\",\"+c[1]+\",\"+c[2]+\",\"+c[3],d!==e;case\"simple\":return g.fillText(h(55357,56835),0,0),0!==g.getImageData(16,16,1,1).data[0];case\"unicode8\":return g.fillText(h(55356,57135),0,0),0!==g.getImageData(16,16,1,1).data[0]}return!1}function e(a){var c=b.createElement(\"script\");c.src=a,c.type=\"text/javascript\",b.getElementsByTagName(\"head\")[0].appendChild(c)}var f,g,h,i;for(i=Array(\"simple\",\"flag\",\"unicode8\",\"diversity\"),c.supports={everything:!0,everythingExceptFlag:!0},h=0;h<i.length;h++)c.supports[i[h]]=d(i[h]),c.supports.everything=c.supports.everything&&c.supports[i[h]],\"flag\"!==i[h]&&(c.supports.everythingExceptFlag=c.supports.everythingExceptFlag&&c.supports[i[h]]);c.supports.everythingExceptFlag=c.supports.everythingExceptFlag&&!c.supports.flag,c.DOMReady=!1,c.readyCallback=function(){c.DOMReady=!0},c.supports.everything||(g=function(){c.readyCallback()},b.addEventListener?(b.addEventListener(\"DOMContentLoaded\",g,!1),a.addEventListener(\"load\",g,!1)):(a.attachEvent(\"onload\",g),b.attachEvent(\"onreadystatechange\",function(){\"complete\"===b.readyState&&c.readyCallback()})),f=c.source||{},f.concatemoji?e(f.concatemoji):f.wpemoji&&f.twemoji&&(e(f.twemoji),e(f.wpemoji)))}(window,document,window._wpemojiSettings);\n",
       "\t\t</script>\n",
       "<style type=\"text/css\">\n",
       "img.wp-smiley,\n",
       "img.emoji {\n",
       "\tdisplay: inline !important;\n",
       "\tborder: none !important;\n",
       "\tbox-shadow: none !important;\n",
       "\theight: 1em !important;\n",
       "\twidth: 1em !important;\n",
       "\tmargin: 0 .07em !important;\n",
       "\tvertical-align: -0.1em !important;\n",
       "\tbackground: none !important;\n",
       "\tpadding: 0 !important;\n",
       "}\n",
       "</style>\n",
       "<link href=\"https://fonts.googleapis.com/css?family=Merriweather%3A400%2C700%2C900%2C400italic%2C700italic%2C900italic%7CMontserrat%3A400%2C700%7CInconsolata%3A400&amp;subset=latin%2Clatin-ext\" id=\"twentysixteen-fonts-css\" media=\"all\" rel=\"stylesheet\" type=\"text/css\"/>\n",
       "<link href=\"/wp-content/themes/twentysixteen/genericons/genericons.css?ver=3.4.1\" id=\"genericons-css\" media=\"all\" rel=\"stylesheet\" type=\"text/css\"/>\n",
       "<link href=\"/wp-content/themes/twentysixteen/style.css?ver=4.5.3\" id=\"twentysixteen-style-css\" media=\"all\" rel=\"stylesheet\" type=\"text/css\"/>\n",
       "<!--[if lt IE 10]>\n",
       "<link rel='stylesheet' id='twentysixteen-ie-css'  href='/wp-content/themes/twentysixteen/css/ie.css?ver=20160412' type='text/css' media='all' />\n",
       "<![endif]-->\n",
       "<!--[if lt IE 9]>\n",
       "<link rel='stylesheet' id='twentysixteen-ie8-css'  href='/wp-content/themes/twentysixteen/css/ie8.css?ver=20160412' type='text/css' media='all' />\n",
       "<![endif]-->\n",
       "<!--[if lt IE 8]>\n",
       "<link rel='stylesheet' id='twentysixteen-ie7-css'  href='/wp-content/themes/twentysixteen/css/ie7.css?ver=20160412' type='text/css' media='all' />\n",
       "<![endif]-->\n",
       "<!--[if lt IE 9]>\n",
       "<script type='text/javascript' src='/wp-content/themes/twentysixteen/js/html5.js?ver=3.7.3'></script>\n",
       "<![endif]-->\n",
       "<script src=\"http://localhost/wp-includes/js/jquery/jquery.js?ver=1.12.4\" type=\"text/javascript\"></script>\n",
       "<script src=\"http://localhost/wp-includes/js/jquery/jquery-migrate.min.js?ver=1.4.1\" type=\"text/javascript\"></script>\n",
       "<link href=\"/wp-json/\" rel=\"https://api.w.org/\"/>\n",
       "<link href=\"/xmlrpc.php?rsd\" rel=\"EditURI\" title=\"RSD\" type=\"application/rsd+xml\"/>\n",
       "<link href=\"/wp-includes/wlwmanifest.xml\" rel=\"wlwmanifest\" type=\"application/wlwmanifest+xml\"/>\n",
       "<meta content=\"WordPress 4.5.3\" name=\"generator\">\n",
       "<style type=\"text/css\">.recentcomments a{display:inline !important;padding:0 !important;margin:0 !important;}</style>\n",
       "</meta></link></head>\n",
       "<body class=\"home blog hfeed\">\n",
       "<div class=\"site\" id=\"page\">\n",
       "<div class=\"site-inner\">\n",
       "<a class=\"skip-link screen-reader-text\" href=\"#content\">Skip to content</a>\n",
       "<header class=\"site-header\" id=\"masthead\" role=\"banner\">\n",
       "<div class=\"site-header-main\">\n",
       "<div class=\"site-branding\">\n",
       "<h1 class=\"site-title\"><a href=\"/\" rel=\"home\">Target WordPress</a></h1>\n",
       "<p class=\"site-description\">Just another WordPress site</p>\n",
       "</div><!-- .site-branding -->\n",
       "</div><!-- .site-header-main -->\n",
       "</header><!-- .site-header -->\n",
       "<div class=\"site-content\" id=\"content\">\n",
       "<div class=\"content-area\" id=\"primary\">\n",
       "<main class=\"site-main\" id=\"main\" role=\"main\">\n",
       "<article class=\"post-1 post type-post status-publish format-standard hentry category-uncategorized\" id=\"post-1\">\n",
       "<header class=\"entry-header\">\n",
       "<h2 class=\"entry-title\"><a href=\"/2018/07/12/hello-world/\" rel=\"bookmark\">Hello world!</a></h2> </header><!-- .entry-header -->\n",
       "<div class=\"entry-content\">\n",
       "<p>Welcome to WordPress. This is your first post. Edit or delete it, then start writing!</p>\n",
       "</div><!-- .entry-content -->\n",
       "<footer class=\"entry-footer\">\n",
       "<span class=\"byline\"><span class=\"author vcard\"><img alt=\"\" class=\"avatar avatar-49 photo\" height=\"49\" src=\"http://1.gravatar.com/avatar/1e421ab419b5bee07fe7fba2adc4e22f?s=49&amp;d=mm&amp;r=g\" srcset=\"http://1.gravatar.com/avatar/1e421ab419b5bee07fe7fba2adc4e22f?s=98&amp;d=mm&amp;r=g 2x\" width=\"49\"/><span class=\"screen-reader-text\">Author </span> <a class=\"url fn n\" href=\"/author/admin/\">admin</a></span></span><span class=\"posted-on\"><span class=\"screen-reader-text\">Posted on </span><a href=\"/2018/07/12/hello-world/\" rel=\"bookmark\"><time class=\"entry-date published updated\" datetime=\"2018-07-12T19:19:22+00:00\">July 12, 2018</time></a></span><span class=\"comments-link\"><a href=\"/2018/07/12/hello-world/#comments\">1 Comment<span class=\"screen-reader-text\"> on Hello world!</span></a></span> </footer><!-- .entry-footer -->\n",
       "</article><!-- #post-## -->\n",
       "</main><!-- .site-main -->\n",
       "</div><!-- .content-area -->\n",
       "<aside class=\"sidebar widget-area\" id=\"secondary\" role=\"complementary\">\n",
       "<section class=\"widget widget_search\" id=\"search-2\">\n",
       "<form action=\"/\" class=\"search-form\" method=\"get\" role=\"search\">\n",
       "<label>\n",
       "<span class=\"screen-reader-text\">Search for:</span>\n",
       "<input class=\"search-field\" name=\"s\" placeholder=\"Search …\" type=\"search\" value=\"\"/>\n",
       "</label>\n",
       "<button class=\"search-submit\" type=\"submit\"><span class=\"screen-reader-text\">Search</span></button>\n",
       "</form>\n",
       "</section> <section class=\"widget widget_recent_entries\" id=\"recent-posts-2\"> <h2 class=\"widget-title\">Recent Posts</h2> <ul>\n",
       "<li>\n",
       "<a href=\"/2018/07/12/hello-world/\">Hello world!</a>\n",
       "</li>\n",
       "</ul>\n",
       "</section> <section class=\"widget widget_recent_comments\" id=\"recent-comments-2\"><h2 class=\"widget-title\">Recent Comments</h2><ul id=\"recentcomments\"><li class=\"recentcomments\"><span class=\"comment-author-link\"><a class=\"url\" href=\"https://wordpress.org/\" rel=\"external nofollow\">Mr WordPress</a></span> on <a href=\"/2018/07/12/hello-world/#comment-1\">Hello world!</a></li></ul></section><section class=\"widget widget_archive\" id=\"archives-2\"><h2 class=\"widget-title\">Archives</h2> <ul>\n",
       "<li><a href=\"/2018/07/\">July 2018</a></li>\n",
       "</ul>\n",
       "</section><section class=\"widget widget_categories\" id=\"categories-2\"><h2 class=\"widget-title\">Categories</h2> <ul>\n",
       "<li class=\"cat-item cat-item-1\"><a href=\"/category/uncategorized/\">Uncategorized</a>\n",
       "</li>\n",
       "</ul>\n",
       "</section><section class=\"widget widget_meta\" id=\"meta-2\"><h2 class=\"widget-title\">Meta</h2> <ul>\n",
       "<li><a href=\"/wp-login.php\">Log in</a></li>\n",
       "<li><a href=\"/feed/\">Entries <abbr title=\"Really Simple Syndication\">RSS</abbr></a></li>\n",
       "<li><a href=\"/comments/feed/\">Comments <abbr title=\"Really Simple Syndication\">RSS</abbr></a></li>\n",
       "<li><a href=\"https://wordpress.org/\" title=\"Powered by WordPress, state-of-the-art semantic personal publishing platform.\">WordPress.org</a></li> </ul>\n",
       "</section> </aside><!-- .sidebar .widget-area -->\n",
       "</div><!-- .site-content -->\n",
       "<footer class=\"site-footer\" id=\"colophon\" role=\"contentinfo\">\n",
       "<div class=\"site-info\">\n",
       "<span class=\"site-title\"><a href=\"/\" rel=\"home\">Target WordPress</a></span>\n",
       "<a href=\"https://wordpress.org/\">Proudly powered by WordPress</a>\n",
       "</div><!-- .site-info -->\n",
       "</footer><!-- .site-footer -->\n",
       "</div><!-- .site-inner -->\n",
       "</div><!-- .site -->\n",
       "<script src=\"/wp-content/themes/twentysixteen/js/skip-link-focus-fix.js?ver=20160412\" type=\"text/javascript\"></script>\n",
       "<script type=\"text/javascript\">\n",
       "/* <![CDATA[ */\n",
       "var screenReaderText = {\"expand\":\"expand child menu\",\"collapse\":\"collapse child menu\"};\n",
       "/* ]]> */\n",
       "</script>\n",
       "<script src=\"/wp-content/themes/twentysixteen/js/functions.js?ver=20160412\" type=\"text/javascript\"></script>\n",
       "<script src=\"http://localhost/wp-includes/js/wp-embed.min.js?ver=4.5.3\" type=\"text/javascript\"></script>\n",
       "</body>\n",
       "</html>\n",
       ">"
      ]
     },
     "execution_count": 30,
     "metadata": {},
     "output_type": "execute_result"
    }
   ],
   "source": [
    "soup = BeautifulSoup(result.content, 'html.parser')\n",
    "soup.prettify"
   ]
  },
  {
   "cell_type": "markdown",
   "metadata": {},
   "source": [
    "**Task 6:** Print the title of web portal hosted on localhost?"
   ]
  },
  {
   "cell_type": "code",
   "execution_count": 33,
   "metadata": {},
   "outputs": [
    {
     "data": {
      "text/plain": [
       "'Target WordPress – Just another WordPress site'"
      ]
     },
     "execution_count": 33,
     "metadata": {},
     "output_type": "execute_result"
    }
   ],
   "source": [
    "soup.title.string"
   ]
  },
  {
   "cell_type": "markdown",
   "metadata": {},
   "source": [
    "**Task 7:** Print the URLs for images present on the homepage."
   ]
  },
  {
   "cell_type": "code",
   "execution_count": 77,
   "metadata": {
    "scrolled": false
   },
   "outputs": [
    {
     "name": "stdout",
     "output_type": "stream",
     "text": [
      "http://1.gravatar.com/avatar/1e421ab419b5bee07fe7fba2adc4e22f?s=49&d=mm&r=g\n"
     ]
    }
   ],
   "source": [
    "for img in soup.find_all('img'):\n",
    "    print(img.get('src'))"
   ]
  },
  {
   "cell_type": "markdown",
   "metadata": {},
   "source": [
    "**Task 8:** Scrape all URLs from the home page of localhost and print unique URLs."
   ]
  },
  {
   "cell_type": "code",
   "execution_count": 144,
   "metadata": {},
   "outputs": [
    {
     "name": "stdout",
     "output_type": "stream",
     "text": [
      "#content\n",
      "/\n",
      "/2018/07/12/hello-world/\n",
      "/author/admin/\n",
      "/2018/07/12/hello-world/\n",
      "/2018/07/12/hello-world/#comments\n",
      "/2018/07/12/hello-world/\n",
      "https://wordpress.org/\n",
      "/2018/07/12/hello-world/#comment-1\n",
      "/2018/07/\n",
      "/category/uncategorized/\n",
      "/wp-login.php\n",
      "/feed/\n",
      "/comments/feed/\n",
      "https://wordpress.org/\n",
      "/\n",
      "https://wordpress.org/\n",
      "====================\n"
     ]
    }
   ],
   "source": [
    "for link in soup.find_all('a', href=True):\n",
    "    print(link.get('href'))\n",
    "\n",
    "txt = soup.find_all('a', href=True)\n",
    "\n",
    "print(\"====================\")\n",
    "for link in soup.find_all('a', href=True):\n",
    "    temp = link.get('href')\n",
    "\n",
    "#re.search('^http+', txt)"
   ]
  },
  {
   "cell_type": "markdown",
   "metadata": {},
   "source": [
    "**Task 9:** Can you access the admin section (/wp-admin/) of the CMS?"
   ]
  },
  {
   "cell_type": "code",
   "execution_count": 151,
   "metadata": {},
   "outputs": [
    {
     "data": {
      "text/plain": [
       "<Response [404]>"
      ]
     },
     "execution_count": 151,
     "metadata": {},
     "output_type": "execute_result"
    }
   ],
   "source": [
    "result = rq.get('http://localhost/wp-admin/:80')\n",
    "result\n",
    "#status code 404"
   ]
  },
  {
   "cell_type": "markdown",
   "metadata": {},
   "source": [
    "## Attack"
   ]
  },
  {
   "cell_type": "markdown",
   "metadata": {},
   "source": [
    "**Task 10:** Bruteforce the wordpress login for user \"admin\". Use the given dictionary."
   ]
  },
  {
   "cell_type": "code",
   "execution_count": 152,
   "metadata": {},
   "outputs": [
    {
     "data": {
      "text/plain": [
       "<html>\n",
       "<head><title>404 Not Found</title></head>\n",
       "<body bgcolor=\"white\">\n",
       "<center><h1>404 Not Found</h1></center>\n",
       "<hr/><center>nginx/1.14.0</center>\n",
       "</body>\n",
       "</html>"
      ]
     },
     "execution_count": 152,
     "metadata": {},
     "output_type": "execute_result"
    }
   ],
   "source": [
    "soup = BeautifulSoup(result.content,'html.parser')\n",
    "soup"
   ]
  },
  {
   "cell_type": "code",
   "execution_count": null,
   "metadata": {},
   "outputs": [],
   "source": [
    "result = rq.get('http://localhost/wp-admin/:80')\n",
    "result"
   ]
  },
  {
   "cell_type": "code",
   "execution_count": null,
   "metadata": {},
   "outputs": [],
   "source": []
  },
  {
   "cell_type": "markdown",
   "metadata": {},
   "source": [
    "**Task 11:** A token is kept at page localhost/token/index.html by user \"anon\". But, the page is protected. What kind of protection is deployed?"
   ]
  },
  {
   "cell_type": "code",
   "execution_count": null,
   "metadata": {},
   "outputs": [],
   "source": []
  },
  {
   "cell_type": "markdown",
   "metadata": {},
   "source": [
    "**Task 12:** Break the protection and get the token kept at page localhost/token1/index.html"
   ]
  },
  {
   "cell_type": "code",
   "execution_count": null,
   "metadata": {},
   "outputs": [],
   "source": []
  }
 ],
 "metadata": {
  "kernelspec": {
   "display_name": "Python 3",
   "language": "python",
   "name": "python3"
  },
  "language_info": {
   "codemirror_mode": {
    "name": "ipython",
    "version": 3
   },
   "file_extension": ".py",
   "mimetype": "text/x-python",
   "name": "python",
   "nbconvert_exporter": "python",
   "pygments_lexer": "ipython3",
   "version": "3.6.6"
  }
 },
 "nbformat": 4,
 "nbformat_minor": 2
}
